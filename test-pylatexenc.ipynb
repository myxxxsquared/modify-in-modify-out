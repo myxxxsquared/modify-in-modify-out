{
 "cells": [
  {
   "cell_type": "code",
   "execution_count": 1,
   "metadata": {},
   "outputs": [],
   "source": [
    "import pylatexenc.latex2text\n",
    "import pylatexenc.latexwalker\n",
    "\n",
    "FILE_NAME = '/home/wenjie/work/research-compiling-error-fixing/OOPSLA-2022-2/chaps/04-approach.tex'"
   ]
  },
  {
   "cell_type": "code",
   "execution_count": 4,
   "metadata": {},
   "outputs": [],
   "source": [
    "with open(FILE_NAME, 'r') as f:\n",
    "    text = f.read()\n",
    "\n",
    "converter = pylatexenc.latex2text.LatexNodes2Text(math_mode='remove', keep_comments=False, strict_latex_spaces=False, fill_text=False)\n",
    "text_tuples = converter.latex_to_text_tuples(text)\n",
    "walkresult = pylatexenc.latexwalker.LatexWalker(text).get_latex_nodes()"
   ]
  },
  {
   "cell_type": "code",
   "execution_count": 16,
   "metadata": {},
   "outputs": [
    {
     "name": "stdout",
     "output_type": "stream",
     "text": [
      "0 : LatexCharsNode(parsing_state=<parsing state 140002920825088>, pos=0, len=1, chars='\\n')\n",
      "1 : LatexMacroNode(parsing_state=<parsing state 140002920825088>, pos=1, len=18, macroname='section', nodeargd=ParsedMacroArgs(argspec='*[{', argnlist=[None, None, LatexGroupNode(parsing_state=<parsing state 140002920825088>, pos=9, len=10, nodelist=[LatexCharsNode(parsing_state=<parsing state 140002920825088>, pos=10, len=8, chars='Approach')], delimiters=('{', '}'))]), macro_post_space='')\n",
      "2 : LatexCharsNode(parsing_state=<parsing state 140002920825088>, pos=19, len=3, chars='\\n\\n\\n')\n",
      "3 : LatexMacroNode(parsing_state=<parsing state 140002920825088>, pos=22, len=21, macroname='subsection', nodeargd=ParsedMacroArgs(argspec='*[{', argnlist=[None, None, LatexGroupNode(parsing_state=<parsing state 140002920825088>, pos=33, len=10, nodelist=[LatexCharsNode(parsing_state=<parsing state 140002920825088>, pos=34, len=8, chars='Overview')], delimiters=('{', '}'))]), macro_post_space='')\n",
      "4 : LatexCharsNode(parsing_state=<parsing state 140002920825088>, pos=43, len=208, chars='\\n\\nWe briefly illustrate our algorithm with a toy example in this subsection.\\nConsider a simple programming language with only one assignment statement.\\nThe context-free grammar of the programming language is\\n')\n",
      "5 : LatexMathNode(parsing_state=<parsing state 140002920825088>, pos=251, len=66, displaytype='display', nodelist=[LatexMacroNode(parsing_state=<parsing state 140002920825952>, pos=253, len=11, macroname='mathcal', nodeargd=ParsedMacroArgs(argspec='{', argnlist=[LatexGroupNode(parsing_state=<parsing state 140002920825952>, pos=261, len=3, nodelist=[LatexCharsNode(parsing_state=<parsing state 140002920825952>, pos=262, len=1, chars='S')], delimiters=('{', '}'))]), macro_post_space=''), LatexCharsNode(parsing_state=<parsing state 140002920825952>, pos=264, len=1, chars=' '), LatexMacroNode(parsing_state=<parsing state 140002920825952>, pos=265, len=4, macroname='to', nodeargd=ParsedMacroArgs(argspec='', argnlist=[]), macro_post_space=' '), LatexMacroNode(parsing_state=<parsing state 140002920825952>, pos=269, len=19, macroname='texttt', nodeargd=ParsedMacroArgs(argspec='{', argnlist=[LatexGroupNode(parsing_state=<parsing state 140002920828112>, pos=276, len=12, nodelist=[LatexCharsNode(parsing_state=<parsing state 140002920828112>, pos=277, len=10, chars='identifier')], delimiters=('{', '}'))]), macro_post_space=''), LatexMacroNode(parsing_state=<parsing state 140002920825952>, pos=288, len=2, macroname=' ', nodeargd=ParsedMacroArgs(argspec='', argnlist=[]), macro_post_space=''), LatexCharsNode(parsing_state=<parsing state 140002920825952>, pos=290, len=1, chars='='), LatexMacroNode(parsing_state=<parsing state 140002920825952>, pos=291, len=2, macroname=' ', nodeargd=ParsedMacroArgs(argspec='', argnlist=[]), macro_post_space=''), LatexMacroNode(parsing_state=<parsing state 140002920825952>, pos=293, len=19, macroname='texttt', nodeargd=ParsedMacroArgs(argspec='{', argnlist=[LatexGroupNode(parsing_state=<parsing state 140002920828784>, pos=300, len=12, nodelist=[LatexCharsNode(parsing_state=<parsing state 140002920828784>, pos=301, len=10, chars='identifier')], delimiters=('{', '}'))]), macro_post_space=''), LatexMacroNode(parsing_state=<parsing state 140002920825952>, pos=312, len=2, macroname=' ', nodeargd=ParsedMacroArgs(argspec='', argnlist=[]), macro_post_space=''), LatexCharsNode(parsing_state=<parsing state 140002920825952>, pos=314, len=1, chars=';')], delimiters=('$$', '$$'))\n",
      "6 : LatexCharsNode(parsing_state=<parsing state 140002920825088>, pos=317, len=101, chars='\\nThe statement contains a semicolon indicating the end of the statement.\\nThere are three identifiers ')\n",
      "7 : LatexMathNode(parsing_state=<parsing state 140002920825088>, pos=418, len=9, displaytype='inline', nodelist=[LatexCharsNode(parsing_state=<parsing state 140002920825136>, pos=419, len=7, chars='x, y, z')], delimiters=('$', '$'))\n",
      "8 : LatexCharsNode(parsing_state=<parsing state 140002920825088>, pos=427, len=15, chars='. \\nThe type of ')\n",
      "9 : LatexMathNode(parsing_state=<parsing state 140002920825088>, pos=442, len=3, displaytype='inline', nodelist=[LatexCharsNode(parsing_state=<parsing state 140002920827008>, pos=443, len=1, chars='x')], delimiters=('$', '$'))\n"
     ]
    }
   ],
   "source": [
    "for i in range(10):\n",
    "    print(i, \":\", walkresult[0][i])\n"
   ]
  }
 ],
 "metadata": {
  "interpreter": {
   "hash": "ba85520f5d62104c913ebbe4636a7728467e82db4ea74d7cd5ded4c192365131"
  },
  "kernelspec": {
   "display_name": "Python 3.10.4 ('modify-in-modify-out')",
   "language": "python",
   "name": "python3"
  },
  "language_info": {
   "codemirror_mode": {
    "name": "ipython",
    "version": 3
   },
   "file_extension": ".py",
   "mimetype": "text/x-python",
   "name": "python",
   "nbconvert_exporter": "python",
   "pygments_lexer": "ipython3",
   "version": "3.10.4"
  },
  "orig_nbformat": 4
 },
 "nbformat": 4,
 "nbformat_minor": 2
}
